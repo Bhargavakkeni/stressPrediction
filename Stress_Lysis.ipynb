{
 "cells": [
  {
   "cell_type": "code",
   "execution_count": 3,
   "metadata": {},
   "outputs": [],
   "source": [
    "import numpy as np \n",
    "import pandas as pd\n",
    "import matplotlib.pyplot as plt\n",
    "import seaborn as sns\n",
    "%matplotlib inline\n",
    "\n",
    "import os\n",
    "for dirname, _, filenames in os.walk('/kaggle/input-data'):\n",
    "    for filename in filenames:\n",
    "        print(os.path.join(dirname, filename))"
   ]
  },
  {
   "cell_type": "code",
   "execution_count": 4,
   "metadata": {},
   "outputs": [
    {
     "data": {
      "text/html": [
       "<div>\n",
       "<style scoped>\n",
       "    .dataframe tbody tr th:only-of-type {\n",
       "        vertical-align: middle;\n",
       "    }\n",
       "\n",
       "    .dataframe tbody tr th {\n",
       "        vertical-align: top;\n",
       "    }\n",
       "\n",
       "    .dataframe thead th {\n",
       "        text-align: right;\n",
       "    }\n",
       "</style>\n",
       "<table border=\"1\" class=\"dataframe\">\n",
       "  <thead>\n",
       "    <tr style=\"text-align: right;\">\n",
       "      <th></th>\n",
       "      <th>Humidity</th>\n",
       "      <th>Temperature</th>\n",
       "      <th>Step_count</th>\n",
       "      <th>Stress_Level</th>\n",
       "    </tr>\n",
       "  </thead>\n",
       "  <tbody>\n",
       "    <tr>\n",
       "      <th>0</th>\n",
       "      <td>21.33</td>\n",
       "      <td>90.33</td>\n",
       "      <td>123</td>\n",
       "      <td>1</td>\n",
       "    </tr>\n",
       "    <tr>\n",
       "      <th>1</th>\n",
       "      <td>21.41</td>\n",
       "      <td>90.41</td>\n",
       "      <td>93</td>\n",
       "      <td>1</td>\n",
       "    </tr>\n",
       "    <tr>\n",
       "      <th>2</th>\n",
       "      <td>27.12</td>\n",
       "      <td>96.12</td>\n",
       "      <td>196</td>\n",
       "      <td>2</td>\n",
       "    </tr>\n",
       "    <tr>\n",
       "      <th>3</th>\n",
       "      <td>27.64</td>\n",
       "      <td>96.64</td>\n",
       "      <td>177</td>\n",
       "      <td>2</td>\n",
       "    </tr>\n",
       "    <tr>\n",
       "      <th>4</th>\n",
       "      <td>10.87</td>\n",
       "      <td>79.87</td>\n",
       "      <td>87</td>\n",
       "      <td>0</td>\n",
       "    </tr>\n",
       "  </tbody>\n",
       "</table>\n",
       "</div>"
      ],
      "text/plain": [
       "   Humidity  Temperature  Step_count  Stress_Level\n",
       "0     21.33        90.33         123             1\n",
       "1     21.41        90.41          93             1\n",
       "2     27.12        96.12         196             2\n",
       "3     27.64        96.64         177             2\n",
       "4     10.87        79.87          87             0"
      ]
     },
     "execution_count": 4,
     "metadata": {},
     "output_type": "execute_result"
    }
   ],
   "source": [
    "data=pd.read_csv('Stress-Lysis.csv')\n",
    "data.head()  # displays the first five rows of the dataframe"
   ]
  },
  {
   "cell_type": "code",
   "execution_count": 5,
   "metadata": {},
   "outputs": [
    {
     "name": "stdout",
     "output_type": "stream",
     "text": [
      "<class 'pandas.core.frame.DataFrame'>\n",
      "RangeIndex: 2001 entries, 0 to 2000\n",
      "Data columns (total 4 columns):\n",
      " #   Column        Non-Null Count  Dtype  \n",
      "---  ------        --------------  -----  \n",
      " 0   Humidity      2001 non-null   float64\n",
      " 1   Temperature   2001 non-null   float64\n",
      " 2   Step_count    2001 non-null   int64  \n",
      " 3   Stress_Level  2001 non-null   int64  \n",
      "dtypes: float64(2), int64(2)\n",
      "memory usage: 62.7 KB\n"
     ]
    },
    {
     "data": {
      "text/html": [
       "<div>\n",
       "<style scoped>\n",
       "    .dataframe tbody tr th:only-of-type {\n",
       "        vertical-align: middle;\n",
       "    }\n",
       "\n",
       "    .dataframe tbody tr th {\n",
       "        vertical-align: top;\n",
       "    }\n",
       "\n",
       "    .dataframe thead th {\n",
       "        text-align: right;\n",
       "    }\n",
       "</style>\n",
       "<table border=\"1\" class=\"dataframe\">\n",
       "  <thead>\n",
       "    <tr style=\"text-align: right;\">\n",
       "      <th></th>\n",
       "      <th>Humidity</th>\n",
       "      <th>Temperature</th>\n",
       "      <th>Step_count</th>\n",
       "      <th>Stress_Level</th>\n",
       "    </tr>\n",
       "  </thead>\n",
       "  <tbody>\n",
       "    <tr>\n",
       "      <th>count</th>\n",
       "      <td>2001.000000</td>\n",
       "      <td>2001.000000</td>\n",
       "      <td>2001.000000</td>\n",
       "      <td>2001.000000</td>\n",
       "    </tr>\n",
       "    <tr>\n",
       "      <th>mean</th>\n",
       "      <td>20.000000</td>\n",
       "      <td>89.000000</td>\n",
       "      <td>100.141429</td>\n",
       "      <td>1.104448</td>\n",
       "    </tr>\n",
       "    <tr>\n",
       "      <th>std</th>\n",
       "      <td>5.777833</td>\n",
       "      <td>5.777833</td>\n",
       "      <td>58.182948</td>\n",
       "      <td>0.771094</td>\n",
       "    </tr>\n",
       "    <tr>\n",
       "      <th>min</th>\n",
       "      <td>10.000000</td>\n",
       "      <td>79.000000</td>\n",
       "      <td>0.000000</td>\n",
       "      <td>0.000000</td>\n",
       "    </tr>\n",
       "    <tr>\n",
       "      <th>25%</th>\n",
       "      <td>15.000000</td>\n",
       "      <td>84.000000</td>\n",
       "      <td>50.000000</td>\n",
       "      <td>0.000000</td>\n",
       "    </tr>\n",
       "    <tr>\n",
       "      <th>50%</th>\n",
       "      <td>20.000000</td>\n",
       "      <td>89.000000</td>\n",
       "      <td>101.000000</td>\n",
       "      <td>1.000000</td>\n",
       "    </tr>\n",
       "    <tr>\n",
       "      <th>75%</th>\n",
       "      <td>25.000000</td>\n",
       "      <td>94.000000</td>\n",
       "      <td>150.000000</td>\n",
       "      <td>2.000000</td>\n",
       "    </tr>\n",
       "    <tr>\n",
       "      <th>max</th>\n",
       "      <td>30.000000</td>\n",
       "      <td>99.000000</td>\n",
       "      <td>200.000000</td>\n",
       "      <td>2.000000</td>\n",
       "    </tr>\n",
       "  </tbody>\n",
       "</table>\n",
       "</div>"
      ],
      "text/plain": [
       "          Humidity  Temperature   Step_count  Stress_Level\n",
       "count  2001.000000  2001.000000  2001.000000   2001.000000\n",
       "mean     20.000000    89.000000   100.141429      1.104448\n",
       "std       5.777833     5.777833    58.182948      0.771094\n",
       "min      10.000000    79.000000     0.000000      0.000000\n",
       "25%      15.000000    84.000000    50.000000      0.000000\n",
       "50%      20.000000    89.000000   101.000000      1.000000\n",
       "75%      25.000000    94.000000   150.000000      2.000000\n",
       "max      30.000000    99.000000   200.000000      2.000000"
      ]
     },
     "execution_count": 5,
     "metadata": {},
     "output_type": "execute_result"
    }
   ],
   "source": [
    "data.shape  # returns a tuple of array dimension that specifies the number of rows and columns\n",
    "data.info()  # prints the information about the dataframe\n",
    "data.describe()  # returns the statistical summary of the data"
   ]
  },
  {
   "cell_type": "code",
   "execution_count": 25,
   "metadata": {},
   "outputs": [
    {
     "data": {
      "text/plain": [
       "0"
      ]
     },
     "execution_count": 25,
     "metadata": {},
     "output_type": "execute_result"
    }
   ],
   "source": [
    "data['Stress_Level'].unique()\n",
    "#2. Check for missing values and handle them.\n",
    "\n",
    "data.isnull().sum()\n",
    "#3.Check for duplicate values\n",
    "\n",
    "data.duplicated().sum()"
   ]
  },
  {
   "cell_type": "code",
   "execution_count": 28,
   "metadata": {},
   "outputs": [
    {
     "data": {
      "image/png": "[encoded data removed]",
      "text/plain": [
       "<Figure size 288x288 with 1 Axes>"
      ]
     },
     "metadata": {},
     "output_type": "display_data"
    }
   ],
   "source": [
    "data.skew()\n",
    "plt.figure(figsize=(4,4))\n",
    "plt.boxplot(data) #shows distribution of data and its median\n",
    "plt.show()"
   ]
  },
  {
   "cell_type": "code",
   "execution_count": 8,
   "metadata": {},
   "outputs": [
    {
     "name": "stdout",
     "output_type": "stream",
     "text": [
      "-0.3790364332\n"
     ]
    }
   ],
   "source": [
    "# Logarithmic Transformation\n",
    "hum_log = np.log(data['Humidity'])\n",
    "h = round(hum_log.skew(),10)\n",
    "print(h)"
   ]
  },
  {
   "cell_type": "code",
   "execution_count": 9,
   "metadata": {},
   "outputs": [
    {
     "name": "stdout",
     "output_type": "stream",
     "text": [
      "-0.0390881104\n"
     ]
    }
   ],
   "source": [
    "# SquareRoot Transformation\n",
    "temp_sqrt = np.sqrt(data['Temperature'])\n",
    "temp_sqrt.skew()\n",
    "t = round(temp_sqrt.skew(),10)\n",
    "print(t)\n",
    "quantile1=data[\"Step_count\"].quantile(0.25)\n",
    "quantile2=data[\"Step_count\"].quantile(0.75)"
   ]
  },
  {
   "cell_type": "code",
   "execution_count": 10,
   "metadata": {},
   "outputs": [
    {
     "name": "stdout",
     "output_type": "stream",
     "text": [
      "-0.0094975784\n"
     ]
    }
   ],
   "source": [
    "quantile1\n",
    "quantile2\n",
    "data[\"Step_count\"]=np.where(data[\"Step_count\"]<quantile1,quantile1,data[\"Step_count\"])\n",
    "data[\"Step_count\"]=np.where(data[\"Step_count\"]>quantile2,quantile2,data[\"Step_count\"])\n",
    "s = round(data['Step_count'].skew(),10)\n",
    "print(s)"
   ]
  },
  {
   "cell_type": "code",
   "execution_count": 11,
   "metadata": {},
   "outputs": [
    {
     "name": "stdout",
     "output_type": "stream",
     "text": [
      "-0.7944935599\n"
     ]
    }
   ],
   "source": [
    "# SquareRoot Transformation\n",
    "stress_sqrt = np.sqrt(data['Stress_Level']) #applies sqrt to every element of the column\n",
    "sl = round(stress_sqrt.skew(),10) #calculates the skewness(symmetric[mean=median=mode] or skewed to oneside(righttail[mean>median>mode] or lefttail))\n",
    "print(sl)"
   ]
  },
  {
   "cell_type": "code",
   "execution_count": 12,
   "metadata": {},
   "outputs": [
    {
     "data": {
      "image/png": "[encoded data removed]",
      "text/plain": [
       "<Figure size 216x216 with 1 Axes>"
      ]
     },
     "metadata": {
      "needs_background": "light"
     },
     "output_type": "display_data"
    },
    {
     "data": {
      "image/png": "[encoded data removed]",
      "text/plain": [
       "<Figure size 216x216 with 1 Axes>"
      ]
     },
     "metadata": {
      "needs_background": "light"
     },
     "output_type": "display_data"
    },
    {
     "name": "stderr",
     "output_type": "stream",
     "text": [
      "c:\\ProgramData\\Anaconda3\\lib\\site-packages\\seaborn\\_decorators.py:36: FutureWarning: Pass the following variable as a keyword arg: x. From version 0.12, the only valid positional argument will be `data`, and passing other arguments without an explicit keyword will result in an error or misinterpretation.\n",
      "  warnings.warn(\n"
     ]
    },
    {
     "data": {
      "text/plain": [
       "<AxesSubplot:xlabel='Temperature'>"
      ]
     },
     "execution_count": 12,
     "metadata": {},
     "output_type": "execute_result"
    },
    {
     "data": {
      "image/png": "[encoded data removed]",
      "text/plain": [
       "<Figure size 216x216 with 1 Axes>"
      ]
     },
     "metadata": {
      "needs_background": "light"
     },
     "output_type": "display_data"
    },
    {
     "data": {
      "image/png": "[encoded data removed]",
      "text/plain": [
       "<Figure size 216x216 with 1 Axes>"
      ]
     },
     "metadata": {},
     "output_type": "display_data"
    }
   ],
   "source": [
    "column=['Step_count','Humidity']\n",
    "for category in column:\n",
    "    plt.figure(figsize=(3,3))\n",
    "    plt.hist(data[category])\n",
    "    plt.title(category)\n",
    "    plt.show() #shows histograph for stepcount and humidity separately\n",
    "# histplot (categorical) \n",
    "plt.figure(figsize=(3,3))\n",
    "sns.set(font_scale=1)\n",
    "sns.histplot(data=data, x='Stress_Level')\n",
    "plt.figure(figsize=(3,3))\n",
    "sns.boxplot(data['Temperature'])"
   ]
  },
  {
   "cell_type": "code",
   "execution_count": 13,
   "metadata": {},
   "outputs": [
    {
     "data": {
      "image/png": "[encoded data removed]",
      "text/plain": [
       "<Figure size 216x216 with 2 Axes>"
      ]
     },
     "metadata": {},
     "output_type": "display_data"
    }
   ],
   "source": [
    "correlation = data.corr()\n",
    "correlation\n",
    "plt.figure(figsize=(3,3))\n",
    "sns.heatmap(correlation,annot=True,cmap='crest',linewidths=0.2) #finds correlation between two columns in the dataframe(-1,0,1)\n",
    "plt.show()"
   ]
  },
  {
   "cell_type": "code",
   "execution_count": 14,
   "metadata": {},
   "outputs": [
    {
     "data": {
      "image/png": "[encoded data removed]",
      "text/plain": [
       "<Figure size 216x216 with 1 Axes>"
      ]
     },
     "metadata": {},
     "output_type": "display_data"
    }
   ],
   "source": [
    "plt.figure(figsize=(3,3))\n",
    "sns.scatterplot(x='Humidity',y='Temperature',hue='Stress_Level',data=data)\n",
    "plt.show()"
   ]
  },
  {
   "cell_type": "code",
   "execution_count": 15,
   "metadata": {},
   "outputs": [],
   "source": [
    "from sklearn.model_selection import train_test_split\n",
    "from sklearn.preprocessing import StandardScaler\n",
    "\n",
    "X=data.drop(['Stress_Level'],axis=1)\n",
    "y=data['Stress_Level']\n",
    "scaler = StandardScaler()\n",
    "X = scaler.fit_transform(X)\n",
    "X_train,X_test,y_train,y_test = train_test_split(X,y,test_size=0.3,random_state=0)"
   ]
  },
  {
   "cell_type": "code",
   "execution_count": 16,
   "metadata": {},
   "outputs": [
    {
     "name": "stdout",
     "output_type": "stream",
     "text": [
      "[[134   0   0]\n",
      " [  2 250   0]\n",
      " [  0   0 215]]\n",
      "0.9966722129783694\n"
     ]
    }
   ],
   "source": [
    "from sklearn.linear_model import LogisticRegression\n",
    "from sklearn import preprocessing\n",
    "regressor = LogisticRegression(C=1.0,random_state=0)\n",
    "scaler=preprocessing.StandardScaler().fit(X_train)\n",
    "X_train=scaler.transform(X_train)\n",
    "\n",
    "regressor.fit(X_train,y_train)\n",
    "\n",
    "from sklearn.metrics import accuracy_score, confusion_matrix\n",
    "prediction = regressor.predict(X_test)\n",
    "confusionmatrix = confusion_matrix(y_test,prediction)\n",
    "print(confusionmatrix)\n",
    "\n",
    "print(accuracy_score(y_test,prediction))"
   ]
  },
  {
   "cell_type": "code",
   "execution_count": 17,
   "metadata": {},
   "outputs": [
    {
     "name": "stdout",
     "output_type": "stream",
     "text": [
      "0.9950083194675541\n"
     ]
    }
   ],
   "source": [
    "from sklearn.preprocessing import StandardScaler\n",
    "from sklearn.metrics import accuracy_score\n",
    "\n",
    "from sklearn.svm import SVC\n",
    "classifier = SVC(kernel='linear', random_state=0)  \n",
    "classifier.fit(X_train, y_train)  \n",
    "y_predict= classifier.predict(X_test)\n",
    "score=accuracy_score(y_test,y_predict)\n",
    "print(score)"
   ]
  },
  {
   "cell_type": "code",
   "execution_count": 18,
   "metadata": {},
   "outputs": [
    {
     "name": "stdout",
     "output_type": "stream",
     "text": [
      "0.9933444259567388\n"
     ]
    }
   ],
   "source": [
    "from sklearn.ensemble import RandomForestClassifier\n",
    "model=RandomForestClassifier(n_estimators=100,max_depth=3,random_state=0)\n",
    "model.fit(X_train,y_train)\n",
    "prediction = model.predict(X_test)\n",
    "#confusionmatrix = confusion_matrix(y_test,prediction)\n",
    "#print(confusionmatrix)\n",
    "print(accuracy_score(y_test,prediction))"
   ]
  },
  {
   "cell_type": "code",
   "execution_count": 19,
   "metadata": {},
   "outputs": [],
   "source": [
    "import pickle"
   ]
  },
  {
   "cell_type": "code",
   "execution_count": 20,
   "metadata": {},
   "outputs": [],
   "source": [
    "filename = 'stress_trained.sav'\n",
    "pickle.dump(classifier,open(filename,'wb'))"
   ]
  },
  {
   "cell_type": "code",
   "execution_count": 21,
   "metadata": {},
   "outputs": [],
   "source": [
    "loaded_model = pickle.load(open('stress_trained.sav','rb'))\n",
    "# Download the stress_trained.sav model "
   ]
  },
  {
   "cell_type": "code",
   "execution_count": 22,
   "metadata": {},
   "outputs": [
    {
     "name": "stdout",
     "output_type": "stream",
     "text": [
      "[2]\n",
      "Stress Level: HIGH\n",
      "[2]\n",
      "Stress Level: HIGH\n",
      "[2]\n",
      "Stress Level: HIGH\n"
     ]
    }
   ],
   "source": [
    "# Evaluating\n",
    "\n",
    "input_data = (11.05,80.05,14) #300\n",
    "#changing the input data into numpy array\n",
    "id_np_array = np.asarray(input_data)\n",
    "id_reshaped = id_np_array.reshape(1,-1)\n",
    "\n",
    "prediction = classifier.predict(id_reshaped)\n",
    "print(prediction)\n",
    "#print(accuracy_score(X_test,prediction))\n",
    "if(prediction[0]==0):\n",
    "    print(\"Stress Level: LOW\")\n",
    "elif(prediction[0]==1):\n",
    "    print(\"Stress Level: MEDIUM\")\n",
    "else:\n",
    "    print(\"Stress Level: HIGH\")\n",
    "    \n",
    "input_data = (21.38,90.38,128) #100\n",
    "#changing the input data into numpy array\n",
    "id_np_array = np.asarray(input_data)\n",
    "id_reshaped = id_np_array.reshape(1,-1)\n",
    "\n",
    "prediction = classifier.predict(id_reshaped)\n",
    "print(prediction)\n",
    "\n",
    "if(prediction[0]==0):\n",
    "    print(\"Stress Level: LOW\")\n",
    "elif(prediction[0]==1):\n",
    "    print(\"Stress Level: MEDIUM\")\n",
    "else:\n",
    "    print(\"Stress Level: HIGH\")\n",
    "    \n",
    "input_data = (25.41,94.41,167) #200\n",
    "#changing the input data into numpy array\n",
    "id_np_array = np.asarray(input_data)\n",
    "id_reshaped = id_np_array.reshape(1,-1)\n",
    "\n",
    "prediction = classifier.predict(id_reshaped)\n",
    "print(prediction)\n",
    "\n",
    "if(prediction[0]==0):\n",
    "    print(\"Stress Level: LOW\")\n",
    "elif(prediction[0]==1):\n",
    "    print(\"Stress Level: MEDIUM\")\n",
    "else:\n",
    "    print(\"Stress Level: HIGH\")"
   ]
  }
 ],
 "metadata": {
  "kernelspec": {
   "display_name": "base",
   "language": "python",
   "name": "python3"
  },
  "language_info": {
   "codemirror_mode": {
    "name": "ipython",
    "version": 3
   },
   "file_extension": ".py",
   "mimetype": "text/x-python",
   "name": "python",
   "nbconvert_exporter": "python",
   "pygments_lexer": "ipython3",
   "version": "3.9.7"
  },
  "orig_nbformat": 4,
  "vscode": {
   "interpreter": {
    "hash": "ad2bdc8ecc057115af97d19610ffacc2b4e99fae6737bb82f5d7fb13d2f2c186"
   }
  }
 },
 "nbformat": 4,
 "nbformat_minor": 2
}
